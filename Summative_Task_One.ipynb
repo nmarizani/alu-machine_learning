{
  "nbformat": 4,
  "nbformat_minor": 0,
  "metadata": {
    "colab": {
      "provenance": []
    },
    "kernelspec": {
      "name": "python3",
      "display_name": "Python 3"
    },
    "language_info": {
      "name": "python"
    }
  },
  "cells": [
    {
      "cell_type": "markdown",
      "source": [
        "**Loading & Exploring the Dataset**"
      ],
      "metadata": {
        "id": "isd6c9OZFrPO"
      }
    },
    {
      "cell_type": "code",
      "execution_count": 3,
      "metadata": {
        "colab": {
          "base_uri": "https://localhost:8080/"
        },
        "id": "2U1J2Y_pE6K7",
        "outputId": "1ccd3f40-511a-425b-f9b2-231262926cf2"
      },
      "outputs": [
        {
          "output_type": "stream",
          "name": "stdout",
          "text": [
            "   CustomerID  Age  Gender  Tenure  MonthlyCharges    ContractType  \\\n",
            "0           1   49    Male       4           88.35  Month-to-Month   \n",
            "1           2   43    Male       0           36.67  Month-to-Month   \n",
            "2           3   51  Female       2           63.79  Month-to-Month   \n",
            "3           4   60  Female       8          102.34        One-Year   \n",
            "4           5   42    Male      32           69.01  Month-to-Month   \n",
            "\n",
            "  InternetService  TotalCharges TechSupport Churn  \n",
            "0     Fiber Optic        353.40         Yes   Yes  \n",
            "1     Fiber Optic          0.00         Yes   Yes  \n",
            "2     Fiber Optic        127.58          No   Yes  \n",
            "3             DSL        818.72         Yes   Yes  \n",
            "4             NaN       2208.32          No   Yes  \n",
            "CustomerID           0\n",
            "Age                  0\n",
            "Gender               0\n",
            "Tenure               0\n",
            "MonthlyCharges       0\n",
            "ContractType         0\n",
            "InternetService    297\n",
            "TotalCharges         0\n",
            "TechSupport          0\n",
            "Churn                0\n",
            "dtype: int64\n"
          ]
        }
      ],
      "source": [
        "import pandas as pd\n",
        "import numpy as np\n",
        "import matplotlib.pyplot as plt\n",
        "from sklearn.model_selection import train_test_split\n",
        "from sklearn.preprocessing import StandardScaler, LabelEncoder\n",
        "from sklearn.linear_model import SGDRegressor\n",
        "from sklearn.tree import DecisionTreeRegressor\n",
        "from sklearn.ensemble import RandomForestRegressor\n",
        "from sklearn.metrics import mean_squared_error\n",
        "import joblib  # For saving the best model\n",
        "\n",
        "# Load your dataset (replace 'your_dataset.csv' with the actual file)\n",
        "df = pd.read_csv('customer_churn_data.csv')\n",
        "\n",
        "# Display first few rows\n",
        "print(df.head())\n",
        "\n",
        "# Check for missing values\n",
        "print(df.isnull().sum())\n",
        "\n",
        "# Convert categorical columns if needed\n"
      ]
    },
    {
      "cell_type": "code",
      "source": [
        "import pandas as pd\n",
        "\n",
        "# Load dataset\n",
        "df = pd.read_csv('customer_churn_data.csv')\n",
        "\n",
        "# Print basic info\n",
        "print(df.info())  # Check data types and missing values\n",
        "print(df.describe())  # Check distributions\n",
        "print(df.head())  # View first rows\n",
        "\n",
        "# Check unique values in the target column\n",
        "print(\"Unique values in y (target variable):\", df['Churn'].unique())\n",
        "\n",
        "# Check for duplicate rows\n",
        "print(\"Number of duplicate rows:\", df.duplicated().sum())\n",
        "\n",
        "# Check if target variable has only one value\n",
        "if len(df['Churn'].unique()) == 1:\n",
        "    print(\"⚠️ Warning: The target variable has only one unique value!\")\n",
        "else:\n",
        "    print(\"✅ Target variable has multiple values.\")\n"
      ],
      "metadata": {
        "colab": {
          "base_uri": "https://localhost:8080/"
        },
        "id": "uq21z8_Ul3v9",
        "outputId": "d2c68165-9132-46bd-c395-41573eab0ef8"
      },
      "execution_count": 5,
      "outputs": [
        {
          "output_type": "stream",
          "name": "stdout",
          "text": [
            "<class 'pandas.core.frame.DataFrame'>\n",
            "RangeIndex: 1000 entries, 0 to 999\n",
            "Data columns (total 10 columns):\n",
            " #   Column           Non-Null Count  Dtype  \n",
            "---  ------           --------------  -----  \n",
            " 0   CustomerID       1000 non-null   int64  \n",
            " 1   Age              1000 non-null   int64  \n",
            " 2   Gender           1000 non-null   object \n",
            " 3   Tenure           1000 non-null   int64  \n",
            " 4   MonthlyCharges   1000 non-null   float64\n",
            " 5   ContractType     1000 non-null   object \n",
            " 6   InternetService  703 non-null    object \n",
            " 7   TotalCharges     1000 non-null   float64\n",
            " 8   TechSupport      1000 non-null   object \n",
            " 9   Churn            1000 non-null   object \n",
            "dtypes: float64(2), int64(3), object(5)\n",
            "memory usage: 78.3+ KB\n",
            "None\n",
            "        CustomerID          Age      Tenure  MonthlyCharges  TotalCharges\n",
            "count  1000.000000  1000.000000  1000.00000     1000.000000   1000.000000\n",
            "mean    500.500000    44.674000    18.97300       74.391290   1404.364060\n",
            "std     288.819436     9.797741    18.89257       25.712083   1571.755048\n",
            "min       1.000000    12.000000     0.00000       30.000000      0.000000\n",
            "25%     250.750000    38.000000     5.00000       52.357500    345.217500\n",
            "50%     500.500000    45.000000    13.00000       74.060000    872.870000\n",
            "75%     750.250000    51.000000    26.00000       96.102500   1900.175000\n",
            "max    1000.000000    83.000000   122.00000      119.960000  12416.250000\n",
            "   CustomerID  Age  Gender  Tenure  MonthlyCharges    ContractType  \\\n",
            "0           1   49    Male       4           88.35  Month-to-Month   \n",
            "1           2   43    Male       0           36.67  Month-to-Month   \n",
            "2           3   51  Female       2           63.79  Month-to-Month   \n",
            "3           4   60  Female       8          102.34        One-Year   \n",
            "4           5   42    Male      32           69.01  Month-to-Month   \n",
            "\n",
            "  InternetService  TotalCharges TechSupport Churn  \n",
            "0     Fiber Optic        353.40         Yes   Yes  \n",
            "1     Fiber Optic          0.00         Yes   Yes  \n",
            "2     Fiber Optic        127.58          No   Yes  \n",
            "3             DSL        818.72         Yes   Yes  \n",
            "4             NaN       2208.32          No   Yes  \n",
            "Unique values in y (target variable): ['Yes' 'No']\n",
            "Number of duplicate rows: 0\n",
            "✅ Target variable has multiple values.\n"
          ]
        }
      ]
    },
    {
      "cell_type": "markdown",
      "source": [
        "**Preprocessing the Data**"
      ],
      "metadata": {
        "id": "N_X0RvsBGAZ6"
      }
    },
    {
      "cell_type": "code",
      "source": [
        "# Drop missing values (or use imputation if necessary)\n",
        "df.dropna(inplace=True)\n",
        "\n",
        "# Encode categorical columns (if any)\n",
        "label_encoders = {}\n",
        "for col in df.select_dtypes(include=['object']).columns:\n",
        "    le = LabelEncoder()\n",
        "    df[col] = le.fit_transform(df[col])\n",
        "    label_encoders[col] = le  # Store for later use\n",
        "\n",
        "# Select features and target\n",
        "X = df.drop(columns=['Churn'])  # Assuming 'Churn' is the target column\n",
        "y = df['Churn']\n",
        "\n",
        "# Split into train and test sets (80-20 split)\n",
        "X_train, X_test, y_train, y_test = train_test_split(X, y, test_size=0.2, random_state=42)\n",
        "\n",
        "# Scale numerical features\n",
        "scaler = StandardScaler()\n",
        "X_train = scaler.fit_transform(X_train)\n",
        "X_test = scaler.transform(X_test)\n"
      ],
      "metadata": {
        "id": "2AdrmNelGIOi"
      },
      "execution_count": 6,
      "outputs": []
    },
    {
      "cell_type": "markdown",
      "source": [
        "**Training a linear regression model using Gradient Descent**"
      ],
      "metadata": {
        "id": "BPa403pWGN3A"
      }
    },
    {
      "cell_type": "code",
      "source": [
        "# Train a Linear Regression model using Gradient Descent\n",
        "lr = SGDRegressor(max_iter=1000, learning_rate='optimal', tol=1e-3, random_state=42)\n",
        "lr.fit(X_train, y_train)\n",
        "\n",
        "# Predictions\n",
        "y_train_pred = lr.predict(X_train)\n",
        "y_test_pred = lr.predict(X_test)\n",
        "\n",
        "# Compute Mean Squared Error (MSE)\n",
        "train_mse = mean_squared_error(y_train, y_train_pred)\n",
        "test_mse = mean_squared_error(y_test, y_test_pred)\n",
        "\n",
        "print(f\"Linear Regression Train MSE: {train_mse:.4f}\")\n",
        "print(f\"Linear Regression Test MSE: {test_mse:.4f}\")"
      ],
      "metadata": {
        "colab": {
          "base_uri": "https://localhost:8080/"
        },
        "id": "KEOoZdltGjPB",
        "outputId": "6f1183d1-74eb-4f6e-e069-1e6d98e81854"
      },
      "execution_count": 7,
      "outputs": [
        {
          "output_type": "stream",
          "name": "stdout",
          "text": [
            "Linear Regression Train MSE: 17470081066810807943168.0000\n",
            "Linear Regression Test MSE: 14131917472012221546496.0000\n"
          ]
        }
      ]
    },
    {
      "cell_type": "markdown",
      "source": [
        "**Plotting loss curve**"
      ],
      "metadata": {
        "id": "g20BYfHOGpXb"
      }
    },
    {
      "cell_type": "code",
      "source": [
        "import matplotlib.pyplot as plt\n",
        "import numpy as np\n",
        "from sklearn.linear_model import SGDRegressor\n",
        "\n",
        "# Re-initialize the model\n",
        "lr = SGDRegressor(max_iter=1, learning_rate='optimal', tol=None, random_state=42, warm_start=True)\n",
        "\n",
        "# Store loss values\n",
        "loss_values = []\n",
        "\n",
        "for i in range(100):  # Train for 100 iterations\n",
        "    lr.partial_fit(X_train, y_train)  # Perform one iteration of training\n",
        "    y_pred = lr.predict(X_train)  # Predict training data\n",
        "    loss = mean_squared_error(y_train, y_pred)  # Compute loss (MSE)\n",
        "    loss_values.append(loss)\n",
        "\n",
        "# Plot loss curve\n",
        "plt.plot(range(1, 101), loss_values, label=\"Training Loss\")\n",
        "plt.xlabel(\"Iterations\")\n",
        "plt.ylabel(\"Mean Squared Error (Loss)\")\n",
        "plt.title(\"Gradient Descent Loss Curve\")\n",
        "plt.legend()\n",
        "plt.show()\n"
      ],
      "metadata": {
        "colab": {
          "base_uri": "https://localhost:8080/",
          "height": 472
        },
        "id": "er1fgLT_HTh3",
        "outputId": "a60a9ddc-8ceb-4d2a-9835-79b9009a5acc"
      },
      "execution_count": 8,
      "outputs": [
        {
          "output_type": "display_data",
          "data": {
            "text/plain": [
              "<Figure size 640x480 with 1 Axes>"
            ],
            "image/png": "[encoded data removed]"
          },
          "metadata": {}
        }
      ]
    },
    {
      "cell_type": "markdown",
      "source": [
        "**Training Decision Tree and Random Forest**"
      ],
      "metadata": {
        "id": "EsW8wGXYHhDA"
      }
    },
    {
      "cell_type": "code",
      "source": [
        "import pandas as pd\n",
        "import numpy as np\n",
        "from sklearn.model_selection import train_test_split\n",
        "from sklearn.preprocessing import LabelEncoder, StandardScaler\n",
        "from sklearn.tree import DecisionTreeClassifier\n",
        "from sklearn.ensemble import RandomForestClassifier\n",
        "from sklearn.metrics import accuracy_score\n",
        "import joblib\n",
        "\n",
        "# Load dataset\n",
        "df = pd.read_csv('customer_churn_data.csv')\n",
        "\n",
        "# Drop unnecessary columns (CustomerID isn't useful for prediction)\n",
        "df.drop(columns=['CustomerID'], inplace=True)\n",
        "\n",
        "# Fix Pandas warning - Fill missing values correctly\n",
        "df = df.copy()  # Avoid chained assignment issues\n",
        "df['InternetService'] = df['InternetService'].fillna(df['InternetService'].mode()[0])\n",
        "\n",
        "# Encode categorical variables\n",
        "label_encoders = {}\n",
        "for col in df.select_dtypes(include=['object']).columns:\n",
        "    le = LabelEncoder()\n",
        "    df[col] = le.fit_transform(df[col])  # Convert text to numbers\n",
        "    label_encoders[col] = le  # Store for later use\n",
        "\n",
        "# Save the dictionary of label encoders\n",
        "joblib.dump(label_encoders, \"label_encoders.pkl\")\n",
        "\n",
        "# Save the scaler\n",
        "joblib.dump(scaler, \"scaler.pkl\")\n",
        "\n",
        "# Separate features (X) and target (y)\n",
        "X = df.drop(columns=['Churn'])  # All features except the target\n",
        "y = df['Churn']  # Target variable (0 = No, 1 = Yes)\n",
        "\n",
        "# Ensure train-test separation is correct\n",
        "X_train, X_test, y_train, y_test = train_test_split(X, y, test_size=0.2, random_state=42, shuffle=True)\n",
        "\n",
        "# Scale numerical features (not required for trees, but useful for consistency)\n",
        "scaler = StandardScaler()\n",
        "X_train = scaler.fit_transform(X_train)\n",
        "X_test = scaler.transform(X_test)\n",
        "\n",
        "# ✅ Prevent Overfitting: Adjust `max_depth`, `min_samples_split`, and `min_samples_leaf`\n",
        "dt = DecisionTreeClassifier(max_depth=4, min_samples_split=20, min_samples_leaf=10, random_state=42)\n",
        "dt.fit(X_train, y_train)\n",
        "y_dt_pred = dt.predict(X_test)\n",
        "dt_acc = accuracy_score(y_test, y_dt_pred)\n",
        "\n",
        "rf = RandomForestClassifier(n_estimators=100, max_depth=4, min_samples_split=20, min_samples_leaf=10, random_state=42)\n",
        "rf.fit(X_train, y_train)\n",
        "y_rf_pred = rf.predict(X_test)\n",
        "rf_acc = accuracy_score(y_test, y_rf_pred)\n",
        "\n",
        "# Print classification accuracy\n",
        "print(f\"✅ Decision Tree Test Accuracy: {dt_acc:.4f}\")\n",
        "print(f\"✅ Random Forest Test Accuracy: {rf_acc:.4f}\")\n"
      ],
      "metadata": {
        "colab": {
          "base_uri": "https://localhost:8080/"
        },
        "id": "tiXAeO-8mcAu",
        "outputId": "0149de1a-d7d0-4dcd-9096-600691ea4bee"
      },
      "execution_count": 25,
      "outputs": [
        {
          "output_type": "stream",
          "name": "stdout",
          "text": [
            "✅ Decision Tree Test Accuracy: 1.0000\n",
            "✅ Random Forest Test Accuracy: 0.9850\n"
          ]
        }
      ]
    },
    {
      "cell_type": "code",
      "source": [
        "import joblib\n",
        "\n",
        "# Save the column names in the correct order\n",
        "joblib.dump(X.columns.tolist(), \"columns.pkl\")  # Save column names\n"
      ],
      "metadata": {
        "colab": {
          "base_uri": "https://localhost:8080/"
        },
        "id": "lqHG4Ioepr2i",
        "outputId": "9333bdfc-21f9-493a-f623-acd926e59327"
      },
      "execution_count": 29,
      "outputs": [
        {
          "output_type": "execute_result",
          "data": {
            "text/plain": [
              "['columns.pkl']"
            ]
          },
          "metadata": {},
          "execution_count": 29
        }
      ]
    },
    {
      "cell_type": "markdown",
      "source": [
        "**Saving the best model**"
      ],
      "metadata": {
        "id": "3MlER_auIQ36"
      }
    },
    {
      "cell_type": "code",
      "source": [
        "# Identify the best model based on test accuracy\n",
        "best_model = None\n",
        "best_score = 0\n",
        "model_name = \"\"\n",
        "\n",
        "if dt_acc > rf_acc:  # Compare accuracy instead of MSE\n",
        "    best_model = dt\n",
        "    best_score = dt_acc\n",
        "    model_name = \"decision_tree.pkl\"\n",
        "else:\n",
        "    best_model = rf\n",
        "    best_score = rf_acc\n",
        "    model_name = \"random_forest.pkl\"\n",
        "\n",
        "# Save the best model\n",
        "import joblib\n",
        "joblib.dump(best_model, model_name)\n",
        "\n",
        "print(f\"✅ Best model saved as {model_name} with accuracy: {best_score:.4f}\")\n"
      ],
      "metadata": {
        "colab": {
          "base_uri": "https://localhost:8080/"
        },
        "id": "520g2CO6nlOi",
        "outputId": "5743c3c9-59ca-4931-8504-954652c7985c"
      },
      "execution_count": 30,
      "outputs": [
        {
          "output_type": "stream",
          "name": "stdout",
          "text": [
            "✅ Best model saved as decision_tree.pkl with accuracy: 1.0000\n"
          ]
        }
      ]
    },
    {
      "cell_type": "markdown",
      "source": [
        "**Script for loading and redirecting**"
      ],
      "metadata": {
        "id": "L4z6-NZuKSGj"
      }
    },
    {
      "cell_type": "code",
      "source": [
        "import joblib\n",
        "import pandas as pd\n",
        "import numpy as np\n",
        "from sklearn.preprocessing import StandardScaler\n",
        "\n",
        "# Load the best model\n",
        "model = joblib.load(\"decision_tree.pkl\")\n",
        "\n",
        "# Load the saved label encoders, scaler, and correct column order\n",
        "label_encoders = joblib.load(\"label_encoders.pkl\")  # Load the dictionary\n",
        "scaler = joblib.load(\"scaler.pkl\")\n",
        "correct_columns = joblib.load(\"columns.pkl\")  # Load correct column names\n",
        "\n",
        "# Define new data for prediction (replace with actual values)\n",
        "new_data = pd.DataFrame([{\n",
        "    'Age': 45,\n",
        "    'Tenure': 12,\n",
        "    'MonthlyCharges': 80.5,\n",
        "    'TotalCharges': 966.0,\n",
        "    'Gender': 'Male',\n",
        "    'ContractType': 'Month-to-Month',\n",
        "    'InternetService': 'Fiber Optic',\n",
        "    'TechSupport': 'Yes'\n",
        "}])\n",
        "\n",
        "# Encode categorical columns using the saved label encoders\n",
        "for col in label_encoders.keys():  # Encode all categorical features\n",
        "    if col in new_data.columns:\n",
        "        new_data[col] = label_encoders[col].transform(new_data[col])\n",
        "\n",
        "# Ensure columns are in the same order as training\n",
        "new_data = new_data.reindex(columns=correct_columns)\n",
        "\n",
        "# Scale numerical features using the same scaler from training\n",
        "new_data_scaled = scaler.transform(new_data)\n",
        "\n",
        "# Make a prediction\n",
        "prediction = model.predict(new_data_scaled)\n",
        "print(f\"Predicted Churn: {'Yes' if prediction[0] == 1 else 'No'}\")\n"
      ],
      "metadata": {
        "colab": {
          "base_uri": "https://localhost:8080/"
        },
        "id": "iXnwUcrwpyzt",
        "outputId": "c2ac139b-3112-4eed-9a46-568abce91e69"
      },
      "execution_count": 32,
      "outputs": [
        {
          "output_type": "stream",
          "name": "stdout",
          "text": [
            "Predicted Churn: Yes\n"
          ]
        }
      ]
    }
  ]
}